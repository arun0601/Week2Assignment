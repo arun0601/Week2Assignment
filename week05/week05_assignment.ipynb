{
  "cells": [
    {
      "cell_type": "markdown",
      "metadata": {
        "id": "view-in-github",
        "colab_type": "text"
      },
      "source": [
        "<a href=\"https://colab.research.google.com/github/arun0601/Week2Assignment/blob/main/week05/week05_assignment.ipynb\" target=\"_parent\"><img src=\"https://colab.research.google.com/assets/colab-badge.svg\" alt=\"Open In Colab\"/></a>"
      ]
    },
    {
      "cell_type": "markdown",
      "metadata": {
        "nbgrader": {
          "grade": false,
          "grade_id": "intro",
          "locked": true,
          "schema_version": 1,
          "solution": false
        },
        "id": "lt_ZdHJNqpAV"
      },
      "source": [
        "# Week 5 Exercises\n",
        "\n",
        "_McKinney 3.2_\n",
        "\n",
        "**Unlike in previous weeks, in the exercises below, you will need to create a function definition from scratch.  I'll provide specific instructions and examples for how it will be used, but you will have to do the work of definiging the whole function.**\n",
        "\n",
        "---\n",
        "---"
      ]
    },
    {
      "cell_type": "markdown",
      "metadata": {
        "nbgrader": {
          "grade": false,
          "grade_id": "longest",
          "locked": true,
          "schema_version": 1,
          "solution": false
        },
        "id": "1Sb-zTN9qpAW"
      },
      "source": [
        "### 5.1 Longest String\n",
        "\n",
        "Write a function called `longest (L)` that takes as its only parameter a list of strings.  Your function needs to find the longest of those strings and return the position number of that longest string.  An example is provided below:\n",
        "\n",
        "The longest word in that list of strings is \"birthday\" in position #1, so `longest(strings)` should return 1.\n",
        "```\n",
        ">>> strings = ['happy', 'birthday', 'to', 'me']\n",
        ">>> longest(strings)\n",
        "1\n",
        "```\n",
        "\n",
        "Be sure to include a docstring.  Include test cases in your docstring if you want to."
      ]
    },
    {
      "cell_type": "code",
      "execution_count": 305,
      "metadata": {
        "nbgrader": {
          "grade": false,
          "grade_id": "longest-answer",
          "locked": false,
          "schema_version": 1,
          "solution": true
        },
        "id": "6dClCJGtqpAX"
      },
      "outputs": [],
      "source": [
        "### BEGIN SOLUTION\n",
        "\n",
        "def longest(strings: list[str]) -> int:\n",
        "  if not strings:\n",
        "    \"\"\"(list) -> int\n",
        "    This function finds the longest string in the list of input strings\n",
        "    and returns the position number of that longest string.\n",
        "\n",
        "    >>> longest(['happy', 'birthday', 'to', 'me'])\n",
        "    1\n",
        "\n",
        "    >>> longest(['one', 'two', 'three', 'four'])\n",
        "    2\n",
        "    \"\"\"\n",
        "\n",
        "    if not strings:\n",
        "      return -1 #adding handling for empty lists\n",
        "\n",
        "    longest_pos = 0\n",
        "    longest_len = 0\n",
        "\n",
        "    print(\"Position  Item         Longest So Far\")\n",
        "    print(\"--------- ------------ --------------\")\n",
        "    for position, item in enumerate(strings):\n",
        "\n",
        "        if len(item) > longest_len:\n",
        "            longest_pos = position\n",
        "            longest_len = len(item)\n",
        "        print(\"{0:9} {1:12} {2} : {3}\".format(position, item, longest_pos, longest_len))\n",
        "\n",
        "    return longest_pos\n",
        "\n",
        "### END SOLUTION"
      ]
    },
    {
      "cell_type": "code",
      "execution_count": 306,
      "metadata": {
        "id": "4Oe8GIAXqpAX"
      },
      "outputs": [],
      "source": [
        "import doctest\n",
        "def find_longest_string(my_list):\n",
        "    \"\"\"(list)->int\n",
        "    Find the longest item in a list of strings and return the index for that string.\n",
        "    If there are multiple strings with the same length, return the index of the first of those longest strings.\n",
        "\n",
        "    >>> longest(['happy', 'birthday', 'to', 'me'])\n",
        "    1\n",
        "\n",
        "    >>> longest(['abc','def','ghi'])\n",
        "    0\n",
        "    \"\"\"\n",
        "\n",
        "    if not isinstance(my_list,list):\n",
        "        raise TypeError(\"That isn't a list!\")\n",
        "\n",
        "    if len(my_list) == 0:\n",
        "        raise ValueError(\"There were no items in that list!\")\n",
        "\n",
        "    max_length = -1\n",
        "    max_index = 0\n",
        "\n",
        "    for num, object in enumerate(my_list):\n",
        "        # Check if the object is a string\n",
        "            if not isinstance(object, str):\n",
        "              raise TypeError(\"That object at index\" + str(num) + \" is not a string.\")\n",
        "\n",
        "            if len(object) > max_length:\n",
        "                max_length = len(object)\n",
        "                max_index = num\n",
        "\n",
        "    return max_index\n",
        ""
      ]
    },
    {
      "cell_type": "code",
      "execution_count": 307,
      "metadata": {
        "id": "c__mFGUDqpAX"
      },
      "outputs": [],
      "source": [
        "longest(['happy', 'birthday', '2', 'me'])"
      ]
    },
    {
      "cell_type": "code",
      "execution_count": 308,
      "metadata": {
        "id": "h_tv5ld2qpAY"
      },
      "outputs": [],
      "source": [
        "longest(['happy', 'birthday', 'to', 'me'])"
      ]
    },
    {
      "cell_type": "code",
      "execution_count": 309,
      "metadata": {
        "nbgrader": {
          "grade": true,
          "grade_id": "longest-tests",
          "locked": true,
          "points": 10,
          "schema_version": 1,
          "solution": false
        },
        "id": "aCMgevrLqpAY"
      },
      "outputs": [],
      "source": [
        "assert find_longest_string(\"happy birthday to me\".split(\" \")) == 1\n",
        "assert find_longest_string(\"enjoy class\".split(\" \")) == 0\n",
        "assert find_longest_string(['when','what','where','how','who']) == 2"
      ]
    },
    {
      "cell_type": "code",
      "execution_count": 310,
      "metadata": {
        "id": "eDh8MUjeqpAY",
        "outputId": "b7eefc4a-cd01-440b-d03f-bd1ef2f748f2",
        "colab": {
          "base_uri": "https://localhost:8080/"
        }
      },
      "outputs": [
        {
          "output_type": "stream",
          "name": "stdout",
          "text": [
            "Finding tests in NoName\n"
          ]
        }
      ],
      "source": [
        "import doctest\n",
        "doctest.run_docstring_examples(longest, globals(), verbose=True)"
      ]
    },
    {
      "cell_type": "markdown",
      "metadata": {
        "id": "skr4VbTdqpAY"
      },
      "source": [
        "### 5.2 Celsius to Farenheit\n",
        "\n",
        "Write a function called f_to_c() that converts a given temperature in degrees Farenheit to degrees Celsius.  If you don't recall that conversion, it is:\n",
        "\n",
        "$ temp_c = \\frac{5}{9} \\times (temp_f - 32) $\n",
        "\n",
        "Make sure that you code is well documented using the DocString examples, and that your code includes tests for 212f, 32f, and 98.6f."
      ]
    },
    {
      "cell_type": "code",
      "execution_count": 311,
      "metadata": {
        "id": "CMCp5Tt-qpAY"
      },
      "outputs": [],
      "source": [
        "### BEGIN SOLUTION\n",
        "import doctest\n",
        "def fahrenheit_to_celsius(temperature_f: float):\n",
        "\n",
        " \"\"\"(float) -> float\n",
        "   This function converts a given temperature in degrees Farenheit to degrees Celsius.\n",
        "   >>> fahrenheit_to_celsius(212)\n",
        "   100.0\n",
        "   >>> fahrenheit_to_celsius(32)\n",
        "   0.0\n",
        "   >>> fahrenheit_to_celsius(98.6)\n",
        "   37.0\n",
        "   \"\"\"\n",
        "\n",
        " celsius_temp = (5/9) * (temperature_f - 32)\n",
        " return celsius_temp\n",
        "\n",
        "### END SOLUTION"
      ]
    },
    {
      "cell_type": "code",
      "execution_count": 312,
      "metadata": {
        "id": "dkT2OyC1qpAZ"
      },
      "outputs": [],
      "source": [
        "assert fahrenheit_to_celsius(212) == 100.0\n",
        "assert fahrenheit_to_celsius(32) == 0.0\n",
        "assert fahrenheit_to_celsius(98.6) == 37.0"
      ]
    },
    {
      "cell_type": "code",
      "execution_count": 313,
      "metadata": {
        "id": "IDGS4jiEqpAZ",
        "outputId": "409d61ff-5da1-4447-9d52-4cf07ca77516",
        "colab": {
          "base_uri": "https://localhost:8080/"
        }
      },
      "outputs": [
        {
          "output_type": "execute_result",
          "data": {
            "text/plain": [
              "100.0"
            ]
          },
          "metadata": {},
          "execution_count": 313
        }
      ],
      "source": [
        "fahrenheit_to_celsius(212)"
      ]
    },
    {
      "cell_type": "code",
      "execution_count": 314,
      "metadata": {
        "id": "cvaJXTw0qpAZ",
        "outputId": "5c865051-4b47-43a2-8598-5e604bdbf1c1",
        "colab": {
          "base_uri": "https://localhost:8080/"
        }
      },
      "outputs": [
        {
          "output_type": "stream",
          "name": "stdout",
          "text": [
            "Finding tests in NoName\n",
            "Trying:\n",
            "    fahrenheit_to_celsius(212)\n",
            "Expecting:\n",
            "    100.0\n",
            "ok\n",
            "Trying:\n",
            "    fahrenheit_to_celsius(32)\n",
            "Expecting:\n",
            "    0.0\n",
            "ok\n",
            "Trying:\n",
            "    fahrenheit_to_celsius(98.6)\n",
            "Expecting:\n",
            "    37.0\n",
            "ok\n"
          ]
        }
      ],
      "source": [
        "import doctest\n",
        "doctest.run_docstring_examples(fahrenheit_to_celsius, globals(), verbose=True)"
      ]
    },
    {
      "cell_type": "markdown",
      "metadata": {
        "id": "Fu2gFjZXqpAZ"
      },
      "source": [
        "### 5.3 Computing Length of Stay\n",
        "\n",
        "For this problem, we have a collection of patient enounter data stored as a Python dictionary.  The `key` for the dictionary is the **encounter ID**, a code that starts with the letter `E` followed by four numbers.  The value associated with each encounter ID is another Python dictionary.  This \"inner\" dictionary holds three items: admit date, primary diagnosis, and discharge date.  See the example in the code below.\n",
        "\n",
        "You need to write a length of stay function that computes the length of stay, in whole days, between the admit date and discharge date.  However, if the diagnosis is \"Observation\" then the length of stay should always be returned as 0 regardless of the admit and discharge dates.\n",
        "\n",
        "You will find it handy to refer to this example here on how to calculate the number of days between two dates: https://stackoverflow.com/questions/151199/how-to-calculate-number-of-days-between-two-given-dates"
      ]
    },
    {
      "cell_type": "code",
      "execution_count": 315,
      "metadata": {
        "id": "y2hfovEyqpAZ"
      },
      "outputs": [],
      "source": [
        "from datetime import date\n",
        "\n",
        "### BEGIN SOLUTION\n",
        "def calculate_los(admit_name, discharge_name, diagnosis):\n",
        "  \"\"\"\n",
        "  Calculate  the length of stay (LOS) for a patient encounter\n",
        "\n",
        "  Parameters:\n",
        "  - admit_name(date): The date the patient was admitted.\n",
        "  - discharge_name(date): The date the patient was discharged.\n",
        "  - diagnosis (str): The patient's primary diagnosis for the encounter\n",
        "\n",
        "  Returns:\n",
        "  int: The length of stay in whole days.If the diagosis is \"Observation\",\n",
        "       the LOS is always 0'\n",
        "\n",
        "  Notes:\n",
        "  - The LOS is calculated by finding the differance between the discharge date and the admit date.\n",
        "  \"\"\"\n",
        "  #If the diagnosis is \"Observation\", the LOS is always 0.\n",
        "  if diagnosis == \"Observation\":\n",
        "    return 0\n",
        "  #calculate the length of stay in whole days\n",
        "    return (discharge_name - admit_name).days\n",
        "\n",
        "### END SOLUTION"
      ]
    },
    {
      "cell_type": "code",
      "execution_count": 316,
      "metadata": {
        "id": "oYI5M574qpAZ",
        "outputId": "054a0c91-eafb-49b6-f6df-502d0be5a6d8",
        "colab": {
          "base_uri": "https://localhost:8080/"
        }
      },
      "outputs": [
        {
          "output_type": "stream",
          "name": "stdout",
          "text": [
            "Finding tests in NoName\n"
          ]
        }
      ],
      "source": [
        "import doctest\n",
        "doctest.run_docstring_examples(los, globals(), verbose=True)"
      ]
    },
    {
      "cell_type": "code",
      "execution_count": 317,
      "metadata": {
        "id": "5klPlQAFqpAa",
        "outputId": "95ab2002-d584-4716-fb47-86b4e085e84e",
        "colab": {
          "base_uri": "https://localhost:8080/"
        }
      },
      "outputs": [
        {
          "output_type": "stream",
          "name": "stdout",
          "text": [
            "None\n",
            "None\n",
            "None\n",
            "0\n",
            "None\n"
          ]
        }
      ],
      "source": [
        "encounters = {\n",
        "    \"E1234\": { \"admit_name\": date(2019,1,3), \"diagnosis\": \"COPD\", \"discharge_name\": date(2019,1,8) },\n",
        "    \"E8342\": { \"admit_name\": date(2019,1,5), \"diagnosis\": \"Hypertension\", \"discharge_name\": date(2019,1,9) },\n",
        "    \"E9231\": { \"admit_name\": date(2019,1,12), \"diagnosis\": \"Anxiety\", \"discharge_name\": date(2019,1,13) },\n",
        "    \"E8333\": { \"admit_name\": date(2019,1,15), \"diagnosis\": \"Observation\", \"discharge_name\": date(2019,1,16) },\n",
        "    \"E3342\": { \"admit_name\": date(2019,1,4), \"diagnosis\": \"Anxiety\", \"discharge_name\": date(2019,1,4)}\n",
        "}\n",
        "\n",
        "\n",
        "for e, v in encounters.items():\n",
        "    print(los(v['admit_name'],v['discharge_name'],v['diagnosis']))"
      ]
    },
    {
      "cell_type": "markdown",
      "metadata": {
        "id": "gUFhaNa3qpAa"
      },
      "source": [
        "---\n",
        "---\n",
        "\n",
        "### 5.4 Average Length of Stay\n",
        "\n",
        "Create a function called `average_los` that returns the average of the LOS for the encounters in the provided dictionary. The encounters must be a dictionary that contains dictionaries that each contain at least an admit date and a discharge date.\n",
        "    \n",
        "If the length of stay of any individual encounter is 0, then it will not be counted toward the average."
      ]
    },
    {
      "cell_type": "code",
      "execution_count": 318,
      "metadata": {
        "id": "3V8xaDqBqpAa"
      },
      "outputs": [],
      "source": [
        "test_data_1 = {\n",
        "        \"E1234\": { \"admit\": date(2019,1,3), \"diagnosis\": \"COPD\", \"discharge\": date(2019,1,8) }\n",
        "}\n",
        "\n",
        "test_data_2 = {\n",
        "        \"E1234\": { \"admit\": date(2019,1,3), \"diagnosis\": \"COPD\", \"discharge\": date(2019,1,8) }\n",
        "}\n",
        "\n",
        "### BEGIN SOLUTION\n",
        "def Calculate_length_of_stay(admit_data:date,discghare_data:date,diagnosis:str) -> int:\n",
        "    \"\"\"\n",
        "    Calculate the length of stay (LOS) for a patient encounter\n",
        "    if diagnosis is \"Observation\", the LOS is always 0.\n",
        "    \"\"\"\n",
        "    if diagnosis == \"Observation\":\n",
        "        return 0\n",
        "    else:\n",
        "        return (discharge_data - admit_data).days\n",
        "\n",
        "def average_length_of_stay(encounters: dict) -> float:\n",
        "  \"\"\"\n",
        "  Calculate the average length of stay (LOS) for a set of patient encounters.\n",
        "\n",
        "  :param encounters: Dictionary of patient encounters\n",
        "  :return: Average length of stay (Float)\n",
        "  \"\"\"\n",
        "  total_los = 0\n",
        "  encounter_count = 0\n",
        "  for encounter in encounters.values():\n",
        "      diagnosis = encounter[\"diagnosis\"]\n",
        "      admit_data = encounter[\"admit\"]\n",
        "      discghare_data = encounter[\"discharge\"]\n",
        "      los = length_of_stay(admit_data,discghare_data,diagnosis)\n",
        "\n",
        "      total_los += los\n",
        "      encounter_count += 1\n",
        "\n",
        "  if encounter_count == 0:\n",
        "      return 0.0 # Return 0.0 if there are no encounter\n",
        "  return total_los / encounter_count\n",
        "\n",
        "\n",
        "### END SOLUTION"
      ]
    },
    {
      "cell_type": "code",
      "execution_count": 319,
      "metadata": {
        "id": "6bHOcgtNqpAa"
      },
      "outputs": [],
      "source": [
        "from datetime import date\n",
        "encounters = {\n",
        "    \"E1234\": { \"admit\": date(2019,1,3), \"diagnosis\": \"COPD\", \"discharge\": date(2019,1,8) },\n",
        "    \"E8342\": { \"admit\": date(2019,1,5), \"diagnosis\": \"Hypertension\", \"discharge\": date(2019,1,9) },\n",
        "    \"E9231\": { \"admit\": date(2019,1,12), \"diagnosis\": \"Anxiety\", \"discharge\": date(2019,1,13) },\n",
        "    \"E8333\": { \"admit\": date(2019,1,15), \"diagnosis\": \"Observation\", \"discharge\": date(2019,1,16) },\n",
        "    \"E3342\": { \"admit\": date(2019,1,4), \"diagnosis\": \"Anxiety\", \"discharge\": date(2019,1,4)}\n",
        "}\n",
        "\n",
        "assert(average_los(encounters)) == 2.0"
      ]
    },
    {
      "cell_type": "code",
      "execution_count": 320,
      "metadata": {
        "id": "SyGVEvTdqpAa",
        "outputId": "c2967116-560c-4f3e-e4a4-fef56b5f5e1c",
        "colab": {
          "base_uri": "https://localhost:8080/"
        }
      },
      "outputs": [
        {
          "output_type": "stream",
          "name": "stdout",
          "text": [
            "Finding tests in NoName\n"
          ]
        }
      ],
      "source": [
        "import doctest\n",
        "doctest.run_docstring_examples(average_los, globals(), verbose=True)"
      ]
    },
    {
      "cell_type": "markdown",
      "metadata": {
        "id": "xtodu4xHqpAa"
      },
      "source": [
        "---\n",
        "\n",
        "### 5.5 Celsius to Farenheit\n",
        "\n",
        "Write your own function called `c_to_f` that converts degrees Celsius to degrees Farenheit.  Include in your solution a series of doc tests that can verify the conversion using inputs of 100, 0, and 37 degrees Celsius"
      ]
    },
    {
      "cell_type": "code",
      "execution_count": 321,
      "metadata": {
        "id": "QqBzfA1WqpAa"
      },
      "outputs": [],
      "source": [
        "### BEGIN SOLUTION\n",
        "import doctest\n",
        "def convert_celsius_to_fahrenheit(celsius_temp: float) -> float:\n",
        "    \"\"\"(float) -> float\n",
        "    This function converts a given temperature in degrees Celsius to degrees Farenheit.\n",
        "    >>> convert_celsius_to_fahrenheit(100)\n",
        "    212.0\n",
        "    >>> convert_celsius_to_fahrenheit(0)\n",
        "    32.0\n",
        "    >>> convert_celsius_to_fahrenheit(37)\n",
        "    98.60000000000001\n",
        "    \"\"\"\n",
        "    fahrenheit_temp = celsius_temp * (9/5) + 32\n",
        "    return celsius_temp\n",
        "\n",
        "### END SOLUTION"
      ]
    },
    {
      "cell_type": "code",
      "execution_count": 322,
      "metadata": {
        "id": "svOBxTZeqpAa",
        "outputId": "ef35e18d-8296-4f42-9c46-c9f4c156714e",
        "colab": {
          "base_uri": "https://localhost:8080/"
        }
      },
      "outputs": [
        {
          "output_type": "stream",
          "name": "stdout",
          "text": [
            "Finding tests in NoName\n",
            "Trying:\n",
            "    convert_celsius_to_fahrenheit(100)\n",
            "Expecting:\n",
            "    212.0\n",
            "**********************************************************************\n",
            "File \"__main__\", line 6, in NoName\n",
            "Failed example:\n",
            "    convert_celsius_to_fahrenheit(100)\n",
            "Expected:\n",
            "    212.0\n",
            "Got:\n",
            "    100\n",
            "Trying:\n",
            "    convert_celsius_to_fahrenheit(0)\n",
            "Expecting:\n",
            "    32.0\n",
            "**********************************************************************\n",
            "File \"__main__\", line 8, in NoName\n",
            "Failed example:\n",
            "    convert_celsius_to_fahrenheit(0)\n",
            "Expected:\n",
            "    32.0\n",
            "Got:\n",
            "    0\n",
            "Trying:\n",
            "    convert_celsius_to_fahrenheit(37)\n",
            "Expecting:\n",
            "    98.60000000000001\n",
            "**********************************************************************\n",
            "File \"__main__\", line 10, in NoName\n",
            "Failed example:\n",
            "    convert_celsius_to_fahrenheit(37)\n",
            "Expected:\n",
            "    98.60000000000001\n",
            "Got:\n",
            "    37\n"
          ]
        }
      ],
      "source": [
        "import doctest\n",
        "doctest.run_docstring_examples(convert_celsius_to_fahrenheit, globals(), verbose=True)"
      ]
    },
    {
      "cell_type": "code",
      "execution_count": 323,
      "metadata": {
        "id": "pfEV7pXjqpAa",
        "outputId": "194e0258-26d6-4f67-9092-e8461f8cfcff",
        "colab": {
          "base_uri": "https://localhost:8080/"
        }
      },
      "outputs": [
        {
          "output_type": "execute_result",
          "data": {
            "text/plain": [
              "100"
            ]
          },
          "metadata": {},
          "execution_count": 323
        }
      ],
      "source": [
        "convert_celsius_to_fahrenheit(100)"
      ]
    },
    {
      "cell_type": "code",
      "source": [
        "convert_celsius_to_fahrenheit(0)"
      ],
      "metadata": {
        "id": "SqW5IjCiAK5i",
        "outputId": "e85f3f68-a97e-49e1-a709-3a39d7393ee3",
        "colab": {
          "base_uri": "https://localhost:8080/"
        }
      },
      "execution_count": 324,
      "outputs": [
        {
          "output_type": "execute_result",
          "data": {
            "text/plain": [
              "0"
            ]
          },
          "metadata": {},
          "execution_count": 324
        }
      ]
    },
    {
      "cell_type": "code",
      "source": [
        "convert_celsius_to_fahrenheit(37)"
      ],
      "metadata": {
        "id": "F9FOepj5AOxM",
        "outputId": "25f4ab37-8d29-4a86-d61b-bf710397061c",
        "colab": {
          "base_uri": "https://localhost:8080/"
        }
      },
      "execution_count": 325,
      "outputs": [
        {
          "output_type": "execute_result",
          "data": {
            "text/plain": [
              "37"
            ]
          },
          "metadata": {},
          "execution_count": 325
        }
      ]
    },
    {
      "cell_type": "markdown",
      "metadata": {
        "id": "sCHU5rjRqpAa"
      },
      "source": [
        "---\n",
        "\n",
        "## Check your work above\n",
        "\n",
        "If you didn't get them all correct, take a few minutes to think through those that aren't correct.\n",
        "\n",
        "\n",
        "## Submitting Your Work\n",
        "\n",
        "In order to submit your work, you'll need to use the `git` command line program to **add** your homework file (this file) to your local repository, **commit** your changes to your local repository, and then **push** those changes up to github.com.  From there, I'll be able to **pull** the changes down and do my grading.  I'll provide some feedback, **commit** and **push** my comments back to you.  Next week, I'll show you how to **pull** down my comments.\n",
        "\n",
        "First run through everything one last time and submit your work:\n",
        "1. Use the `Kernel` -> `Restart Kernel and Run All Cells` menu option to run everything from top to bottom and stop here.\n",
        "2. Then open a new command line by clicking the `+` icon above the file list and chosing `Terminal`\n",
        "3. At the command line in the new Terminal, follow these steps:\n",
        "  1. Change directories to your project folder and the week03 subfolder (`cd <folder name>`)\n",
        "  2. Make sure your project folders are up to date with github.com (`git pull`)\n",
        "  3. Add the homework files for this week (`git add <file name>`)\n",
        "  4. Commit your changes (`git commit -a -m \"message\"`)\n",
        "  5. Push your changes (`git push`)\n",
        "  \n",
        "If anything fails along the way with this submission part of the process, let me know.  I'll help you troubleshoort."
      ]
    }
  ],
  "metadata": {
    "celltoolbar": "Create Assignment",
    "kernelspec": {
      "display_name": "Python 3",
      "language": "python",
      "name": "python3"
    },
    "language_info": {
      "codemirror_mode": {
        "name": "ipython",
        "version": 3
      },
      "file_extension": ".py",
      "mimetype": "text/x-python",
      "name": "python",
      "nbconvert_exporter": "python",
      "pygments_lexer": "ipython3",
      "version": "3.6.7"
    },
    "colab": {
      "provenance": [],
      "include_colab_link": true
    }
  },
  "nbformat": 4,
  "nbformat_minor": 0
}