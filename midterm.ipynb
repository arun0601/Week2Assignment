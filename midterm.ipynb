{
  "cells": [
    {
      "cell_type": "markdown",
      "metadata": {
        "id": "view-in-github",
        "colab_type": "text"
      },
      "source": [
        "<a href=\"https://colab.research.google.com/github/arun0601/Week2Assignment/blob/main/midterm.ipynb\" target=\"_parent\"><img src=\"https://colab.research.google.com/assets/colab-badge.svg\" alt=\"Open In Colab\"/></a>"
      ]
    },
    {
      "cell_type": "markdown",
      "metadata": {
        "id": "I1fex9dHBCRJ"
      },
      "source": [
        "### Mid-term for HDS5210\n",
        "\n",
        "Your supervisor is concerned about 4-year survival risks for COPD. She has asked for you to do some analysis using a new metric, BODE. BODE is an improvement on a previous metric and promises to provide insight on survival risks.\n",
        "\n",
        "BODE is defined here. https://www.mdcalc.com/calc/3916/bode-index-copd-survival#evidence\n",
        "\n",
        "Your assignment is to create a BODE calculation, use it to calculate BODE scores and BODE survival rates for a group of patients. Then we want to evaluate the average BODE scores and BODE survival rates for each area hospital.\n",
        "\n",
        "Your patient input file will have the following columns:\n",
        "NAME,SSN,LANGUAGE,JOB,HEIGHT_M,WEIGHT_KG,fev_pct,dyspnea_description,distance_in_meters,hospital\n",
        "\n",
        "BODE calculations require a BMI value, so you will have to create a function for it.\n",
        "\n",
        "Your output should be in the form of two CSV files, patient_output.csv and hospital_output.csv.\n",
        "\n",
        "Patient_output will have the following columns:\n",
        "NAME,BODE_SCORE,BODE_RISK,HOSPITAL\n",
        "\n",
        "Hospital output will have the following columns:\n",
        "HOSPITAL_NAME, COPD_COUNT, PCT_OF_COPD_CASES_OVER_BEDS, AVG_SCORE, AVG_RISK\n",
        "\n",
        "Each function you create should have documentation and a suitable number of test cases. If the input data could be wrong, make sure to raise a Value Error.\n",
        "\n",
        "For this assignment, use the doctest, json, and csv libraries. Pandas is not allowed for this assignment."
      ]
    },
    {
      "cell_type": "code",
      "execution_count": 143,
      "metadata": {
        "id": "sSewZrmjBCRM"
      },
      "outputs": [],
      "source": [
        "import doctest\n",
        "import json\n",
        "import csv"
      ]
    },
    {
      "cell_type": "markdown",
      "metadata": {
        "id": "eaN3dgGABCRO"
      },
      "source": [
        "### Step 1: Calculate BMI"
      ]
    },
    {
      "cell_type": "code",
      "execution_count": 144,
      "metadata": {
        "id": "2C4rKjj5BCRP"
      },
      "outputs": [],
      "source": [
        "def calculate_bmi(weight_kg, height_m):\n",
        "    \"\"\"\n",
        "    Calculate Body Mass Index (BMI).\n",
        "\n",
        "    ValueError: Weight and height must be greater than zero.\n",
        "    \"\"\"\n",
        "    if weight_kg <= 0 or height_m <= 0:\n",
        "        raise ValueError(\"Weight and height must be greater than zero.\")\n",
        "    return weight_kg / (height_m ** 2)"
      ]
    },
    {
      "cell_type": "markdown",
      "metadata": {
        "id": "-8gDl-wFBCRP"
      },
      "source": [
        "### Step 2: Calculate BODE Score"
      ]
    },
    {
      "cell_type": "code",
      "execution_count": 145,
      "metadata": {
        "id": "OVTZGbrHBCRP"
      },
      "outputs": [],
      "source": [
        "def calculate_bode_score(bmi, fev_pct, dyspnea_description, distance_in_meters):\n",
        "    \"\"\"\n",
        "    Calculate the BODE score based on BMI, FEV1 percentage, dyspnea description, and distance in meters.\n",
        "\n",
        "    >>> calculate_bode_score(22, 70, 'ONLY STRENUOUS EXERCISE', 400)\n",
        "    1\n",
        "    >>> calculate_bode_score(18, 40, 'STOPS WHEN WALKING AT PACE', 200)\n",
        "    8\n",
        "    \"\"\"\n",
        "    bode_score = 0\n",
        "\n",
        "    # Calculate BMI score\n",
        "    if bmi > 21:\n",
        "        bode_score += 0\n",
        "    else:\n",
        "        bode_score += 1\n",
        "\n",
        "    # Calculate FEV1 score\n",
        "    if fev_pct >= 65:\n",
        "        bode_score += 0\n",
        "    elif 50 <= fev_pct < 65:\n",
        "        bode_score += 1\n",
        "    elif 36 <= fev_pct < 50:\n",
        "        bode_score += 2\n",
        "    else:\n",
        "        bode_score += 3\n",
        "\n",
        "    # Normalize dyspnea description and map it to a score\n",
        "    dyspnea_description = normalize_dyspnea_description(dyspnea_description)\n",
        "    dyspnea_mapping = {\n",
        "        \"No breathlessness\": 0,\n",
        "        \"Mild breathlessness\": 1,\n",
        "        \"Moderate breathlessness\": 2,\n",
        "        \"Severe breathlessness\": 3,\n",
        "    }\n",
        "\n",
        "    dyspnea_score = dyspnea_mapping.get(dyspnea_description, None)\n",
        "    if dyspnea_score is None:\n",
        "        print(f\"Invalid dyspnea description: {dyspnea_description}\")\n",
        "        raise ValueError(\"Invalid dyspnea description.\")\n",
        "\n",
        "    bode_score += dyspnea_score\n",
        "\n",
        "    # Calculate distance walked score\n",
        "    if distance_in_meters > 350:\n",
        "        bode_score += 0\n",
        "    elif 250 <= distance_in_meters <= 350:\n",
        "        bode_score += 1\n",
        "    elif 150 <= distance_in_meters < 250:\n",
        "        bode_score += 2\n",
        "    else:\n",
        "        bode_score += 3\n",
        "\n",
        "    return bode_score"
      ]
    },
    {
      "cell_type": "markdown",
      "metadata": {
        "id": "DFzBCAu3BCRQ"
      },
      "source": [
        "### Step 3: Calculate BODE Risk"
      ]
    },
    {
      "cell_type": "code",
      "execution_count": 146,
      "metadata": {
        "id": "0aLR7xJQBCRQ"
      },
      "outputs": [],
      "source": [
        "def calculate_bode_risk(bode_score):\n",
        "    \"\"\"\n",
        "    Determine the BODE risk based on the score.\n",
        "\n",
        "    :param bode_score: The calculated BODE score\n",
        "    :return: Risk category\n",
        "\n",
        "    >>> calculate_bode_risk(1)\n",
        "    'Low risk'\n",
        "    >>> calculate_bode_risk(5)\n",
        "    'High risk'\n",
        "    \"\"\"\n",
        "    if bode_score <= 2:\n",
        "        return 'Low risk'\n",
        "    elif bode_score <= 4:\n",
        "        return 'Moderate risk'\n",
        "    else:\n",
        "        return 'High risk'"
      ]
    },
    {
      "cell_type": "markdown",
      "metadata": {
        "id": "X05K3ODrBCRQ"
      },
      "source": [
        "### Step 4: Load Hospital Data"
      ]
    },
    {
      "cell_type": "code",
      "execution_count": 147,
      "metadata": {
        "id": "CZ_PL0hhBCRR"
      },
      "outputs": [],
      "source": [
        "import json\n",
        "\n",
        "# Function to load hospital data from a JSON file\n",
        "def load_hospital_data(file_path):\n",
        "    with open(file_path, 'r') as f:\n",
        "        return json.load(f)\n",
        "\n",
        "# Function to initialize hospital metrics\n",
        "def initialize_hospital_metrics(data):\n",
        "    hospital_beds = {}\n",
        "    hospital_metrics = {}\n",
        "\n",
        "    for system in data:\n",
        "        # Each system contains a list of hospitals\n",
        "        hospitals = system.get('hospitals', [])\n",
        "        for hospital in hospitals:\n",
        "            hospital_name = hospital.get('name')\n",
        "            beds = hospital.get('beds', 0)\n",
        "\n",
        "            if hospital_name:\n",
        "                # Store the number of beds in hospital_beds dictionary\n",
        "                hospital_beds[hospital_name] = beds\n",
        "\n",
        "                # Initialize hospital metrics\n",
        "                hospital_metrics[hospital_name] = {\n",
        "                    'total_bode_score': 0,\n",
        "                    'total_risk': 0,\n",
        "                    'copd_count': 0,\n",
        "                    'beds': beds\n",
        "                }\n",
        "\n",
        "    return hospital_beds, hospital_metrics\n",
        "\n",
        "# Main execution\n",
        "hospital_json = \"hospitals.json\"\n",
        "hospital_data = load_hospital_data(hospital_json)\n",
        "hospital_beds, hospital_metrics = initialize_hospital_metrics(hospital_data)\n",
        "\n"
      ]
    },
    {
      "cell_type": "markdown",
      "metadata": {
        "id": "zLu_f0bHBCRR"
      },
      "source": [
        "### Step 5: Main business logic\n",
        "\n",
        "Call BODE Score, BODE Risk functions for each patient.\n",
        "\n",
        "For each hospital, calculate Avg BODE score and Avg BODE risk and count the number of cases for each hospital."
      ]
    },
    {
      "cell_type": "code",
      "execution_count": 148,
      "metadata": {
        "id": "JGfusbSLBCRR"
      },
      "outputs": [],
      "source": [
        "import csv\n",
        "import json\n",
        "\n",
        "patient_csv = \"patient.csv\"\n",
        "hospital_json_file = \"hospitals.json\"\n",
        "\n",
        "patient_output_file = \"patient_output.csv\"\n",
        "hospital_output_file = \"hospital_output.csv\"\n",
        "\n",
        "patient_results = []\n",
        "hospital_metrics = {}\n",
        "\n",
        "# Placeholder functions for BODE calculations (implement logic as needed)\n",
        "def calculate_bmi(weight_kg, height_m):\n",
        "    return weight_kg / (height_m ** 2)\n",
        "\n",
        "def calculate_bode_score(bmi, fev_pct, dyspnea_description, distance_in_meters):\n",
        "    # Replace with actual logic for calculating BODE score\n",
        "    return round(bmi + (fev_pct / 100) + (1 if dyspnea_description else 0) + (distance_in_meters / 100), 2)\n",
        "\n",
        "def calculate_bode_risk(bode_score):\n",
        "    # Replace with actual logic for calculating BODE risk\n",
        "    if bode_score < 2:\n",
        "        return 0  # Low risk\n",
        "    elif 2 <= bode_score < 4:\n",
        "        return 1  # Moderate risk\n",
        "    else:\n",
        "        return 2  # High risk\n",
        "\n",
        "# Read patient data from the CSV file\n",
        "with open(patient_csv, 'r') as csvfile:\n",
        "    reader = csv.DictReader(csvfile)\n",
        "\n",
        "    for row in reader:\n",
        "        name = row['NAME']\n",
        "        ssn = row['SSN']\n",
        "        language = row['LANGUAGE']\n",
        "        job = row['JOB']\n",
        "        height_m = float(row['HEIGHT_M'])\n",
        "        weight_kg = float(row['WEIGHT_KG'])\n",
        "        fev_pct = float(row['fev_pct'])\n",
        "        dyspnea_description = row['dyspnea_description']\n",
        "        distance_in_meters = float(row['distance_in_meters'])\n",
        "        hospital_name = row['hospital']\n",
        "\n",
        "        # Calculate BMI, BODE score, and BODE risk\n",
        "        bmi = calculate_bmi(weight_kg, height_m)\n",
        "        bode_score = calculate_bode_score(bmi, fev_pct, dyspnea_description, distance_in_meters)\n",
        "        bode_risk = calculate_bode_risk(bode_score)\n",
        "\n",
        "        # Add patient results\n",
        "        patient_results.append([name, bode_score, bode_risk, hospital_name])\n",
        "\n",
        "        # Initialize hospital metrics if not already present\n",
        "        if hospital_name not in hospital_metrics:\n",
        "            hospital_metrics[hospital_name] = {\n",
        "                'total_bode_score': 0,\n",
        "                'total_risk': 0,\n",
        "                'copd_count': 0,\n",
        "                'beds': 0  # You need to populate this from the JSON or another source\n",
        "            }\n",
        "\n",
        "        # Update hospital metrics\n",
        "        hospital_metrics[hospital_name]['total_bode_score'] += bode_score\n",
        "        hospital_metrics[hospital_name]['total_risk'] += bode_risk  # Now bode_risk should be numeric\n",
        "        hospital_metrics[hospital_name]['copd_count'] += 1\n",
        "\n",
        "hospital_output_list = []\n",
        "\n",
        "# Calculate hospital metrics\n",
        "for hospital_name, metrics in hospital_metrics.items():\n",
        "    copd_count = metrics['copd_count']\n",
        "    avg_bode_score = metrics['total_bode_score'] / copd_count if copd_count > 0 else 0\n",
        "    avg_bode_risk = metrics['total_risk'] / copd_count if copd_count > 0 else 0\n",
        "    pct_of_copd_cases = (copd_count / metrics['beds']) * 100 if metrics['beds'] > 0 else 0\n",
        "    hospital_output_list.append([hospital_name, copd_count, pct_of_copd_cases, avg_bode_score, avg_bode_risk])\n",
        "\n",
        "# Write patient_output.csv\n",
        "with open(patient_output_file, 'w', newline='') as csvfile:\n",
        "    writer = csv.writer(csvfile)\n",
        "    writer.writerow([\"NAME\", \"BODE_SCORE\", \"BODE_RISK\", \"HOSPITAL\"])\n",
        "    writer.writerows(patient_results)\n",
        "\n",
        "# Write hospital_output.csv\n",
        "with open(hospital_output_file, 'w', newline='') as csvfile:\n",
        "    writer = csv.writer(csvfile)\n",
        "    writer.writerow([\"HOSPITAL_NAME\", \"COPD_COUNT\", \"PCT_OF_COPD_CASES_OVER_BEDS\", \"AVG_SCORE\", \"AVG_RISK\"])\n",
        "    writer.writerows(hospital_output_list)\n",
        "\n"
      ]
    }
  ],
  "metadata": {
    "language_info": {
      "name": "python"
    },
    "colab": {
      "provenance": [],
      "include_colab_link": true
    },
    "kernelspec": {
      "name": "python3",
      "display_name": "Python 3"
    }
  },
  "nbformat": 4,
  "nbformat_minor": 0
}