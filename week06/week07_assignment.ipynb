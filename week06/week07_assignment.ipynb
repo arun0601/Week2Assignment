{
  "cells": [
    {
      "cell_type": "markdown",
      "metadata": {
        "id": "view-in-github",
        "colab_type": "text"
      },
      "source": [
        "<a href=\"https://colab.research.google.com/github/arun0601/Week2Assignment/blob/main/week06/week07_assignment.ipynb\" target=\"_parent\"><img src=\"https://colab.research.google.com/assets/colab-badge.svg\" alt=\"Open In Colab\"/></a>"
      ]
    },
    {
      "cell_type": "markdown",
      "metadata": {
        "id": "QEOnQoyfzme9"
      },
      "source": [
        "# Week 7 Assignment\n",
        "\n",
        "We've been working with different types of data structures in Python (dictionary, list, etc), how those are represented in JSON documents, and how to write code to access specific data elements. In this week's assignment, you will need to create your own JSON document to store information about yourself and the grades you've received from week 1 to week 4 and the week 6 quiz.  That is, everything you should have received a grade for.  Then you'll need to show me you know how to navigate the JSON in that file.\n",
        "\n",
        "Different from what we've done in the past, you do not have to write any functions or include any docstrings.  Just create some JSON and write some code.\n",
        "\n",
        "---"
      ]
    },
    {
      "cell_type": "markdown",
      "metadata": {
        "id": "Mq8Fyombzme-"
      },
      "source": [
        "## 7.1 Create a JSON file\n",
        "\n",
        "Create a JSON file that contains your name, email, year you were born, all of the grades you've received back so far, and a comment about what you thought was most challenging on each of those assignments.  This can be any structure you choose, but make sure it uses a dictionary and a list, and has at least two levels of hierarchy.  That is, it can't just be one big long list."
      ]
    },
    {
      "cell_type": "markdown",
      "metadata": {
        "id": "0nEuT4yzzme-"
      },
      "source": [
        "First, explain how your data structure is going to look..."
      ]
    },
    {
      "cell_type": "markdown",
      "metadata": {
        "id": "jSyZ4_Yvzme_"
      },
      "source": [
        "* Put your explanation here in text..."
      ]
    },
    {
      "cell_type": "markdown",
      "metadata": {
        "id": "JUtMN_gyzme_"
      },
      "source": [
        "Then put the actual JSON you've created inside the multiline string below..."
      ]
    },
    {
      "cell_type": "code",
      "execution_count": 43,
      "metadata": {
        "id": "7s21oWuSzme_",
        "outputId": "cad0df05-e308-4009-e8de-f084f01c5edc",
        "colab": {
          "base_uri": "https://localhost:8080/"
        }
      },
      "outputs": [
        {
          "output_type": "execute_result",
          "data": {
            "text/plain": [
              "{'personal_info': {'my_full_name': 'Viraj arun kumar',\n",
              "  'birth_date': 2002,\n",
              "  'Email': 'miralaarunkumar@gmail.com'},\n",
              " 'grades': [{'week': 1,\n",
              "   'grade': 8,\n",
              "   'comment': 'I created GitHub account and Snowflake and added new repositors.'},\n",
              "  {'week': 2,\n",
              "   'grade': 8,\n",
              "   'comment': 'Understood basics of python like tuple and list.'},\n",
              "  {'week': 3,\n",
              "   'grade': 9,\n",
              "   'comment': 'completed the topic of docstrings and completed the assignment regarding it.'},\n",
              "  {'week': 4,\n",
              "   'grade': 10,\n",
              "   'comment': 'Learned topics in list including dictionary.'},\n",
              "  {'week': 5,\n",
              "   'grade': 9,\n",
              "   'comment': 'The topic is quiz in assigment 5 where i performed well in it.'}]}"
            ]
          },
          "metadata": {},
          "execution_count": 43
        }
      ],
      "source": [
        "\n",
        "{\n",
        "  \"personal_info\": {\n",
        "   \"my_full_name\": \"Viraj arun kumar\",\n",
        "   \"birth_date\": 2002,\n",
        "   \"Email\": \"miralaarunkumar@gmail.com\"\n",
        "  },\n",
        "   \"grades\": [\n",
        "    {\n",
        "        \"week\": 1,\n",
        "        \"grade\": 8,\n",
        "        \"comment\": \"I created GitHub account and Snowflake and added new repositors.\"\n",
        "    },\n",
        "    {\n",
        "        \"week\": 2,\n",
        "        \"grade\": 8,\n",
        "        \"comment\": \"Understood basics of python like tuple and list.\"\n",
        "    },\n",
        "    {\n",
        "        \"week\": 3,\n",
        "        \"grade\": 9,\n",
        "        \"comment\": \"completed the topic of docstrings and completed the assignment regarding it.\"\n",
        "    },\n",
        "    {\n",
        "        \"week\": 4,\n",
        "        \"grade\": 10,\n",
        "        \"comment\": \"Learned topics in list including dictionary.\"\n",
        "    },\n",
        "    {\n",
        "        \"week\": 5,\n",
        "        \"grade\": 9,\n",
        "        \"comment\": \"The topic is quiz in assigment 5 where i performed well in it.\"\n",
        "    }\n",
        "   ]\n",
        "}"
      ]
    },
    {
      "cell_type": "markdown",
      "metadata": {
        "id": "1sKAoFAHzme_"
      },
      "source": [
        "## 7.2 Do something with your JSON\n",
        "\n",
        "Now use Python code to do something with the Json above.  Turn it into English text, but make sure that you use at least one loop to access some dict or list content of your JSON.  Below, I've provided some basic code to read in the string above as JSON and return a Python object.  Your job is to work with that data structure and print out the important information like your name, email, and how you did on each assignment."
      ]
    },
    {
      "cell_type": "code",
      "execution_count": 44,
      "metadata": {
        "id": "3eOj5_-9zme_",
        "outputId": "28ecbd5a-ed08-4032-8c86-3c0e634434e4",
        "colab": {
          "base_uri": "https://localhost:8080/"
        }
      },
      "outputs": [
        {
          "output_type": "stream",
          "name": "stdout",
          "text": [
            "My name is Viraj arun kumar, I was born in 2002, and my email is miralaarunkumar@gmail.com.\n",
            "\n",
            "Grades:\n",
            "Week 1: Grade 8 - I created GitHub account and Snowflake and added new repositors.\n",
            "Week 2: Grade 8 - Understood basics of python like tuple and list.\n",
            "Week 3: Grade 9 - completed the topic of docstrings and completed the assignment regarding it.\n",
            "Week 4: Grade 10 - Learned topics in list including dictionary.\n",
            "Week 5: Grade 9 - The topic is quiz in assigment 5 where i performed well in it.\n"
          ]
        }
      ],
      "source": [
        "import json\n",
        "\n",
        "hds_5120 = \"\"\"\n",
        "{\n",
        "  \"personal_info\": {\n",
        "   \"my_full_name\": \"Viraj arun kumar\",\n",
        "   \"birth_date\": 2002,\n",
        "   \"Email\": \"miralaarunkumar@gmail.com\"\n",
        "  },\n",
        "   \"grades\": [\n",
        "    {\n",
        "        \"week\": 1,\n",
        "        \"grade\": 8,\n",
        "        \"comment\": \"I created GitHub account and Snowflake and added new repositors.\"\n",
        "    },\n",
        "    {\n",
        "        \"week\": 2,\n",
        "        \"grade\": 8,\n",
        "        \"comment\": \"Understood basics of python like tuple and list.\"\n",
        "    },\n",
        "    {\n",
        "        \"week\": 3,\n",
        "        \"grade\": 9,\n",
        "        \"comment\": \"completed the topic of docstrings and completed the assignment regarding it.\"\n",
        "    },\n",
        "    {\n",
        "        \"week\": 4,\n",
        "        \"grade\": 10,\n",
        "        \"comment\": \"Learned topics in list including dictionary.\"\n",
        "    },\n",
        "    {\n",
        "        \"week\": 5,\n",
        "        \"grade\": 9,\n",
        "        \"comment\": \"The topic is quiz in assigment 5 where i performed well in it.\"\n",
        "    }\n",
        "   ]\n",
        "}\n",
        "\"\"\"\n",
        "\n",
        "#load JSON data into a Python dictionary\n",
        "info = json.loads(hds_5120)\n",
        "\n",
        "name = info[\"personal_info\"][\"my_full_name\"]\n",
        "birth_date = info[\"personal_info\"][\"birth_date\"]\n",
        "email = info[\"personal_info\"][\"Email\"]\n",
        "\n",
        "#creat a list to store the grade summaries\n",
        "grades_summary = []\n",
        "\n",
        "for grade in info[\"grades\"]:\n",
        "    week = grade[\"week\"]\n",
        "    grade_value = grade[\"grade\"]\n",
        "    comment = grade[\"comment\"]\n",
        "    grades_summary.append(f\"Week {week}: Grade {grade_value} - {comment}\")\n",
        "\n",
        "grade_paragraph = \"\\n\".join(grades_summary)\n",
        "\n",
        "result = f\"My name is {name}, I was born in {birth_date}, and my email is {email}.\\n\\nGrades:\\n{grade_paragraph}\"\n",
        "print(result)\n",
        "\n",
        "# put your code to output a paragraph of english text here"
      ]
    },
    {
      "cell_type": "markdown",
      "metadata": {
        "id": "O2r4DeJFzmfA"
      },
      "source": [
        "## 7.3 Reflect\n",
        "\n",
        "Write a paragraph on any reflections you have. Was this hard? Easy?  What parts were most challenging or easiest? What did you like or dislike about the assignment?  Share whatever important thoughts you have abou this assignment."
      ]
    },
    {
      "cell_type": "markdown",
      "metadata": {
        "id": "zVdNqoejzmfA"
      },
      "source": [
        "* Put your response here"
      ]
    },
    {
      "cell_type": "markdown",
      "source": [
        "The assignment of week 7 is easy, everything is good. I have entered all the detailed like full name, birth year and email including my grades as an example to run the code 7.1 and 7.2.\n",
        "It is a bit challenging whule entering the grades with correct syntax till the end and remaining all are easy.\n",
        "There are no dislikes in the assigments, I had completed it very well where I gained knowledge in it and easy to understand how to write the code and make it run.\n",
        "Thank You."
      ],
      "metadata": {
        "id": "14X8VFFh_UXw"
      }
    },
    {
      "cell_type": "markdown",
      "metadata": {
        "id": "9jPX1IqpzmfA"
      },
      "source": [
        "---\n",
        "\n",
        "# Example\n",
        "\n",
        "Below is an example of something similar, but this uses information my and my friend's kids instead of grades."
      ]
    },
    {
      "cell_type": "code",
      "execution_count": 45,
      "metadata": {
        "id": "t8tg3tStzmfA",
        "outputId": "d381db30-66e6-45fc-e76d-40a0a0cf7e60",
        "colab": {
          "base_uri": "https://localhost:8080/"
        }
      },
      "outputs": [
        {
          "output_type": "stream",
          "name": "stdout",
          "text": [
            "Hi, my name is Paul. I've got 3 kids. Their names are Ellie, Ada, Teddy.\n",
            "My friend, Anny has 1 kids. That's fewer than me. Their names are 1\n"
          ]
        }
      ],
      "source": [
        "hds5210 = \"\"\"\n",
        "{\n",
        "    \"me\": {\n",
        "        \"name\": \"Paul\",\n",
        "        \"kids\": [\"Ellie\", \"Ada\", \"Teddy\"]\n",
        "    },\n",
        "    \"friend\": {\n",
        "        \"name\": \"Anny\",\n",
        "        \"kids\": [\"Abby\"]\n",
        "    }\n",
        "}\n",
        "\"\"\"\n",
        "\n",
        "import json\n",
        "\n",
        "info = json.loads(hds5210)\n",
        "\n",
        "me = info[\"me\"][\"name\"]\n",
        "my_kids_count = len(info[\"me\"][\"kids\"])\n",
        "kids_list = \", \".join(info[\"me\"][\"kids\"])\n",
        "friend = info[\"friend\"][\"name\"]\n",
        "friends_kid_count = len(info[\"friend\"][\"kids\"])\n",
        "friend_kids = \", \".join(info[\"friend\"][\"kids\"])\n",
        "compare = \"more\" if friends_kid_count > my_kids_count else \"fewer\"\n",
        "\n",
        "print(f\"Hi, my name is {me}. I've got {my_kids_count} kids. Their names are {kids_list}.\")\n",
        "print(f\"My friend, {friend} has {friends_kid_count} kids. That's {compare} than me. Their names are {friends_kid_count}\")"
      ]
    }
  ],
  "metadata": {
    "kernelspec": {
      "display_name": "Python 3",
      "language": "python",
      "name": "python3"
    },
    "language_info": {
      "codemirror_mode": {
        "name": "ipython",
        "version": 3
      },
      "file_extension": ".py",
      "mimetype": "text/x-python",
      "name": "python",
      "nbconvert_exporter": "python",
      "pygments_lexer": "ipython3",
      "version": "3.9.16"
    },
    "colab": {
      "provenance": [],
      "include_colab_link": true
    }
  },
  "nbformat": 4,
  "nbformat_minor": 0
}